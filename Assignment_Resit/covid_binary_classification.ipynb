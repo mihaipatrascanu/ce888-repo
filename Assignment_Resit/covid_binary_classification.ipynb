{
 "cells": [
  {
   "cell_type": "code",
   "execution_count": 8,
   "metadata": {},
   "outputs": [],
   "source": [
    "# imports \n",
    "import os\n",
    "import shutil"
   ]
  },
  {
   "cell_type": "code",
   "execution_count": 2,
   "metadata": {},
   "outputs": [],
   "source": [
    "# dataset location\n",
    "covid_path = 'dataset/covid/'\n",
    "non_covid_path = 'dataset/no_covid/'\n",
    "\n",
    "base_directory = 'dataset/content/'"
   ]
  },
  {
   "cell_type": "code",
   "execution_count": 3,
   "metadata": {},
   "outputs": [],
   "source": [
    "# this function has been adapted from the \n",
    "# https://github.com/sagihaider/TransferLearning_COVID19 github repo created by Dr. Haider\n",
    "def rename_dataset_files(path, class_handler):\n",
    "    for count, filename in enumerate(os.listdir(path)): \n",
    "        dst = class_handler + \"-\" + str(count) + \".png\"\n",
    "        src = path + filename \n",
    "        dst = path + dst \n",
    "        \n",
    "        os.rename(src, dst)\n",
    "    \n",
    "    print(class_handler, count)"
   ]
  },
  {
   "cell_type": "code",
   "execution_count": 4,
   "metadata": {},
   "outputs": [
    {
     "ename": "FileExistsError",
     "evalue": "[WinError 183] Cannot create a file when that file already exists: 'dataset/covid/covid-10.png' -> 'dataset/covid/covid-2.png'",
     "output_type": "error",
     "traceback": [
      "\u001B[1;31m---------------------------------------------------------------------------\u001B[0m",
      "\u001B[1;31mFileExistsError\u001B[0m                           Traceback (most recent call last)",
      "\u001B[1;32m<ipython-input-4-0a816f5a5032>\u001B[0m in \u001B[0;36m<module>\u001B[1;34m\u001B[0m\n\u001B[1;32m----> 1\u001B[1;33m \u001B[0mrename_dataset_files\u001B[0m\u001B[1;33m(\u001B[0m\u001B[0mcovid_path\u001B[0m\u001B[1;33m,\u001B[0m \u001B[1;34m\"covid\"\u001B[0m\u001B[1;33m)\u001B[0m\u001B[1;33m\u001B[0m\u001B[1;33m\u001B[0m\u001B[0m\n\u001B[0m\u001B[0;32m      2\u001B[0m \u001B[0mrename_dataset_files\u001B[0m\u001B[1;33m(\u001B[0m\u001B[0mnon_covid_path\u001B[0m\u001B[1;33m,\u001B[0m \u001B[1;34m\"non-covid\"\u001B[0m\u001B[1;33m)\u001B[0m\u001B[1;33m\u001B[0m\u001B[1;33m\u001B[0m\u001B[0m\n",
      "\u001B[1;32m<ipython-input-3-b13317788bf2>\u001B[0m in \u001B[0;36mrename_dataset_files\u001B[1;34m(path, class_handler)\u001B[0m\n\u001B[0;32m      7\u001B[0m         \u001B[0mdst\u001B[0m \u001B[1;33m=\u001B[0m \u001B[0mpath\u001B[0m \u001B[1;33m+\u001B[0m \u001B[0mdst\u001B[0m\u001B[1;33m\u001B[0m\u001B[1;33m\u001B[0m\u001B[0m\n\u001B[0;32m      8\u001B[0m \u001B[1;33m\u001B[0m\u001B[0m\n\u001B[1;32m----> 9\u001B[1;33m         \u001B[0mos\u001B[0m\u001B[1;33m.\u001B[0m\u001B[0mrename\u001B[0m\u001B[1;33m(\u001B[0m\u001B[0msrc\u001B[0m\u001B[1;33m,\u001B[0m \u001B[0mdst\u001B[0m\u001B[1;33m)\u001B[0m\u001B[1;33m\u001B[0m\u001B[1;33m\u001B[0m\u001B[0m\n\u001B[0m\u001B[0;32m     10\u001B[0m \u001B[1;33m\u001B[0m\u001B[0m\n\u001B[0;32m     11\u001B[0m     \u001B[0mprint\u001B[0m\u001B[1;33m(\u001B[0m\u001B[0mclass_handler\u001B[0m\u001B[1;33m,\u001B[0m \u001B[0mcount\u001B[0m\u001B[1;33m)\u001B[0m\u001B[1;33m\u001B[0m\u001B[1;33m\u001B[0m\u001B[0m\n",
      "\u001B[1;31mFileExistsError\u001B[0m: [WinError 183] Cannot create a file when that file already exists: 'dataset/covid/covid-10.png' -> 'dataset/covid/covid-2.png'"
     ]
    }
   ],
   "source": [
    "rename_dataset_files(covid_path, \"covid\")\n",
    "rename_dataset_files(non_covid_path, \"non-covid\")"
   ]
  },
  {
   "cell_type": "code",
   "execution_count": 8,
   "metadata": {},
   "outputs": [],
   "source": [
    "# create folders for the dataset split\n",
    "if not os.path.exists(base_directory):\n",
    "    os.mkdir(base_directory)\n",
    "    \n",
    "train_dir = os.path.join(base_directory, 'train')\n",
    "if not os.path.exists(train_dir): \n",
    "    os.mkdir(train_dir)\n",
    "\n",
    "validation_dir = os.path.join(base_directory, 'validation')\n",
    "if not os.path.exists(validation_dir):\n",
    "    os.mkdir(validation_dir)\n",
    "\n",
    "test_dir = os.path.join(base_directory, 'test')\n",
    "if not os.path.exists(test_dir):\n",
    "    os.mkdir(test_dir)"
   ]
  },
  {
   "cell_type": "code",
   "execution_count": 16,
   "metadata": {},
   "outputs": [],
   "source": [
    "# copy the files from the dataset into the train, validation and test sets\n",
    "def copy_files_from_dataset(source, destination, fname_format, lower_limit, upper_limit):\n",
    "    fnames = [fname_format.format(i) for i in range(lower_limit, upper_limit)]\n",
    "    \n",
    "    # clear the destination folder in case the range is modified\n",
    "    # this needs to be made a separate function or smth because it removes the covid images when adding the non-covid\n",
    "#     for file in os.listdir(destination):\n",
    "#         os.remove(os.path.join(destination, file))\n",
    "    \n",
    "    for fname in fnames: \n",
    "        src = os.path.join(source, fname)\n",
    "        dst = os.path.join(destination, fname)\n",
    "        \n",
    "        shutil.copyfile(src, dst)"
   ]
  },
  {
   "cell_type": "code",
   "execution_count": 17,
   "metadata": {},
   "outputs": [],
   "source": [
    "# copy covid\n",
    "copy_files_from_dataset(covid_path, train_dir, 'covid-{}.png', 0, 250)\n",
    "copy_files_from_dataset(covid_path, validation_dir, 'covid-{}.png', 250, 300)\n",
    "copy_files_from_dataset(covid_path, test_dir, 'covid-{}.png', 300, 348)\n",
    "\n",
    "# copy non-covid\n",
    "copy_files_from_dataset(non_covid_path, train_dir, 'non-covid-{}.png', 0, 250)\n",
    "copy_files_from_dataset(non_covid_path, validation_dir, 'non-covid-{}.png', 250, 300)\n",
    "copy_files_from_dataset(non_covid_path, test_dir, 'non-covid-{}.png', 300, 348)"
   ]
  },
  {
   "cell_type": "code",
   "execution_count": 23,
   "metadata": {},
   "outputs": [],
   "source": [
    "import cv2\n",
    "import numpy as np\n",
    "from random import shuffle\n",
    "\n",
    "# IMG_SIZE = 224 # VGG16\n",
    "IMG_SIZE = 227 # alexnet\n",
    "LR = 1e-4"
   ]
  },
  {
   "cell_type": "code",
   "execution_count": 6,
   "metadata": {},
   "outputs": [],
   "source": [
    "def label_img(img):\n",
    "    word_label = img.split('-')[0]\n",
    "    if word_label == 'covid': return 1\n",
    "    elif word_label == 'non': return 0\n",
    "    \n",
    "    \n",
    "    \n",
    "def createDataSplitSet(datapath):\n",
    "    X=[]\n",
    "    y=[]\n",
    "\n",
    "    for img in os.listdir(datapath):\n",
    "        label = label_img(img)\n",
    "        path = os.path.join(datapath, img)\n",
    "        image = cv2.resize(cv2.imread(path), (IMG_SIZE, IMG_SIZE))\n",
    "        image = cv2.normalize(image, None, alpha=0, beta=1, norm_type=cv2.NORM_MINMAX, dtype=cv2.CV_32F)\n",
    "\n",
    "        X.append(np.array(image))\n",
    "        y.append(label)\n",
    "\n",
    "    return np.array(X), np.array(y)"
   ]
  },
  {
   "cell_type": "code",
   "execution_count": 24,
   "metadata": {},
   "outputs": [
    {
     "name": "stdout",
     "output_type": "stream",
     "text": [
      "(500, 227, 227, 3)\n",
      "(100, 227, 227, 3)\n",
      "(96, 227, 227, 3)\n"
     ]
    }
   ],
   "source": [
    "train_X, train_y = createDataSplitSet(train_dir)\n",
    "val_X, val_y = createDataSplitSet(validation_dir)\n",
    "test_X, test_y = createDataSplitSet(test_dir)\n",
    "print(train_X.shape)\n",
    "print(val_X.shape)\n",
    "print(test_X.shape)"
   ]
  },
  {
   "cell_type": "code",
   "execution_count": 25,
   "metadata": {},
   "outputs": [],
   "source": [
    "## VGG 16\n",
    "\n",
    "from tensorflow.keras.applications import VGG16\n",
    "from tensorflow.keras.layers import Dense, Input, Flatten\n",
    "from tensorflow.keras import Model\n",
    "\n",
    "from tensorflow import keras\n",
    "\n",
    "img_input = Input(shape=(IMG_SIZE, IMG_SIZE, 3))"
   ]
  },
  {
   "cell_type": "code",
   "execution_count": 31,
   "metadata": {},
   "outputs": [
    {
     "name": "stdout",
     "output_type": "stream",
     "text": [
      "Model: \"functional_5\"\n",
      "_________________________________________________________________\n",
      "Layer (type)                 Output Shape              Param #   \n",
      "=================================================================\n",
      "input_2 (InputLayer)         [(None, 227, 227, 3)]     0         \n",
      "_________________________________________________________________\n",
      "block1_conv1 (Conv2D)        (None, 227, 227, 64)      1792      \n",
      "_________________________________________________________________\n",
      "block1_conv2 (Conv2D)        (None, 227, 227, 64)      36928     \n",
      "_________________________________________________________________\n",
      "block1_pool (MaxPooling2D)   (None, 113, 113, 64)      0         \n",
      "_________________________________________________________________\n",
      "block2_conv1 (Conv2D)        (None, 113, 113, 128)     73856     \n",
      "_________________________________________________________________\n",
      "block2_conv2 (Conv2D)        (None, 113, 113, 128)     147584    \n",
      "_________________________________________________________________\n",
      "block2_pool (MaxPooling2D)   (None, 56, 56, 128)       0         \n",
      "_________________________________________________________________\n",
      "block3_conv1 (Conv2D)        (None, 56, 56, 256)       295168    \n",
      "_________________________________________________________________\n",
      "block3_conv2 (Conv2D)        (None, 56, 56, 256)       590080    \n",
      "_________________________________________________________________\n",
      "block3_conv3 (Conv2D)        (None, 56, 56, 256)       590080    \n",
      "_________________________________________________________________\n",
      "block3_pool (MaxPooling2D)   (None, 28, 28, 256)       0         \n",
      "_________________________________________________________________\n",
      "block4_conv1 (Conv2D)        (None, 28, 28, 512)       1180160   \n",
      "_________________________________________________________________\n",
      "block4_conv2 (Conv2D)        (None, 28, 28, 512)       2359808   \n",
      "_________________________________________________________________\n",
      "block4_conv3 (Conv2D)        (None, 28, 28, 512)       2359808   \n",
      "_________________________________________________________________\n",
      "block4_pool (MaxPooling2D)   (None, 14, 14, 512)       0         \n",
      "_________________________________________________________________\n",
      "block5_conv1 (Conv2D)        (None, 14, 14, 512)       2359808   \n",
      "_________________________________________________________________\n",
      "block5_conv2 (Conv2D)        (None, 14, 14, 512)       2359808   \n",
      "_________________________________________________________________\n",
      "block5_conv3 (Conv2D)        (None, 14, 14, 512)       2359808   \n",
      "_________________________________________________________________\n",
      "block5_pool (MaxPooling2D)   (None, 7, 7, 512)         0         \n",
      "_________________________________________________________________\n",
      "flatten (Flatten)            (None, 25088)             0         \n",
      "_________________________________________________________________\n",
      "fc1 (Dense)                  (None, 128)               3211392   \n",
      "_________________________________________________________________\n",
      "fc2 (Dense)                  (None, 64)                8256      \n",
      "_________________________________________________________________\n",
      "output (Dense)               (None, 1)                 65        \n",
      "=================================================================\n",
      "Total params: 17,934,401\n",
      "Trainable params: 3,219,713\n",
      "Non-trainable params: 14,714,688\n",
      "_________________________________________________________________\n"
     ]
    }
   ],
   "source": [
    "# VGG16 model\n",
    "model_save = 'vgg16_model.h5'\n",
    "\n",
    "model = VGG16(\n",
    "    include_top=True,\n",
    "    weights=\"imagenet\",\n",
    "    input_tensor=img_input,\n",
    "    input_shape=None,\n",
    "    pooling=None,\n",
    "    classes=1000,\n",
    "    classifier_activation=\"softmax\",\n",
    ")\n",
    "\n",
    "last_layer = model.get_layer('block5_pool').output\n",
    "x= Flatten(name='flatten')(last_layer)\n",
    "x = Dense(128, activation='relu', name='fc1')(x)\n",
    "x = Dense(64, activation='relu', name='fc2')(x)\n",
    "out = Dense(1, activation='sigmoid', name='output')(x)  ## 2 classes\n",
    "model = Model(img_input, out)\n",
    "\n",
    "for layer in model.layers[:-3]:\n",
    "    layer.trainable = False\n",
    "\n",
    "model.summary()\n",
    "\n",
    "model.compile(loss='binary_crossentropy',\n",
    "              optimizer='adam',\n",
    "              metrics=['acc'])"
   ]
  },
  {
   "cell_type": "code",
   "execution_count": 52,
   "metadata": {},
   "outputs": [
    {
     "name": "stdout",
     "output_type": "stream",
     "text": [
      "Model: \"sequential_10\"\n",
      "_________________________________________________________________\n",
      "Layer (type)                 Output Shape              Param #   \n",
      "=================================================================\n",
      "conv2d_50 (Conv2D)           (None, 55, 55, 96)        34944     \n",
      "_________________________________________________________________\n",
      "batch_normalization_50 (Batc (None, 55, 55, 96)        384       \n",
      "_________________________________________________________________\n",
      "max_pooling2d_25 (MaxPooling (None, 27, 27, 96)        0         \n",
      "_________________________________________________________________\n",
      "conv2d_51 (Conv2D)           (None, 27, 27, 256)       614656    \n",
      "_________________________________________________________________\n",
      "batch_normalization_51 (Batc (None, 27, 27, 256)       1024      \n",
      "_________________________________________________________________\n",
      "max_pooling2d_26 (MaxPooling (None, 13, 13, 256)       0         \n",
      "_________________________________________________________________\n",
      "conv2d_52 (Conv2D)           (None, 13, 13, 384)       885120    \n",
      "_________________________________________________________________\n",
      "batch_normalization_52 (Batc (None, 13, 13, 384)       1536      \n",
      "_________________________________________________________________\n",
      "conv2d_53 (Conv2D)           (None, 13, 13, 384)       147840    \n",
      "_________________________________________________________________\n",
      "batch_normalization_53 (Batc (None, 13, 13, 384)       1536      \n",
      "_________________________________________________________________\n",
      "conv2d_54 (Conv2D)           (None, 13, 13, 256)       98560     \n",
      "_________________________________________________________________\n",
      "batch_normalization_54 (Batc (None, 13, 13, 256)       1024      \n",
      "_________________________________________________________________\n",
      "tomas (MaxPooling2D)         (None, 6, 6, 256)         0         \n",
      "_________________________________________________________________\n",
      "flatten_10 (Flatten)         (None, 9216)              0         \n",
      "_________________________________________________________________\n",
      "fc1 (Dense)                  (None, 128)               1179776   \n",
      "_________________________________________________________________\n",
      "dropout_20 (Dropout)         (None, 128)               0         \n",
      "_________________________________________________________________\n",
      "fc2 (Dense)                  (None, 64)                8256      \n",
      "_________________________________________________________________\n",
      "dropout_21 (Dropout)         (None, 64)                0         \n",
      "_________________________________________________________________\n",
      "output (Dense)               (None, 1)                 65        \n",
      "=================================================================\n",
      "Total params: 2,974,721\n",
      "Trainable params: 2,971,969\n",
      "Non-trainable params: 2,752\n",
      "_________________________________________________________________\n"
     ]
    }
   ],
   "source": [
    "# alexnet model\n",
    "# uses 227x227 input\n",
    "model_save = 'alexnet_model.h5'\n",
    "\n",
    "model = keras.models.Sequential([\n",
    "        keras.layers.Conv2D(filters=96, kernel_size=(11, 11), strides=(4, 4), activation='relu',\n",
    "                            input_shape=(227, 227, 3)),\n",
    "        keras.layers.BatchNormalization(),\n",
    "        keras.layers.MaxPool2D(pool_size=(3, 3), strides=(2, 2)),\n",
    "        keras.layers.Conv2D(filters=256, kernel_size=(5, 5), strides=(1, 1), activation='relu', padding=\"same\"),\n",
    "        keras.layers.BatchNormalization(),\n",
    "        keras.layers.MaxPool2D(pool_size=(3, 3), strides=(2, 2)),\n",
    "        keras.layers.Conv2D(filters=384, kernel_size=(3, 3), strides=(1, 1), activation='relu', padding=\"same\"),\n",
    "        keras.layers.BatchNormalization(),\n",
    "        keras.layers.Conv2D(filters=384, kernel_size=(1, 1), strides=(1, 1), activation='relu', padding=\"same\"),\n",
    "        keras.layers.BatchNormalization(),\n",
    "        keras.layers.Conv2D(filters=256, kernel_size=(1, 1), strides=(1, 1), activation='relu', padding=\"same\"),\n",
    "        keras.layers.BatchNormalization(),\n",
    "        keras.layers.MaxPool2D(pool_size=(3, 3), strides=(2, 2), name='tomas'),\n",
    "        keras.layers.Flatten(),\n",
    "#         keras.layers.Dense(4096, activation='relu'),\n",
    "        keras.layers.Dense(128, activation='relu', name='fc1'),\n",
    "        keras.layers.Dropout(0.1),\n",
    "#         keras.layers.Dense(4096, activation='relu'),\n",
    "        keras.layers.Dense(64, activation='relu', name='fc2'),\n",
    "        keras.layers.Dropout(0.1),\n",
    "#         keras.layers.Dense(10, activation='softmax')\n",
    "        keras.layers.Dense(1, activation='sigmoid', name='output')\n",
    "    ])\n",
    "\n",
    "# model.summary()\n",
    "\n",
    "# last_layer = model.get_layer('tomas').output\n",
    "# x= Flatten(name='flatten')(last_layer)\n",
    "# x = Dense(128, activation='relu', name='fc1')(x)\n",
    "# x = Dense(64, activation='relu', name='fc2')(x)\n",
    "# out = Dense(1, activation='sigmoid', name='output')(x)  ## 2 classes\n",
    "# model = Model(img_input, out)\n",
    "\n",
    "# for layer in model.layers[:-3]:\n",
    "#     layer.trainable = False\n",
    "\n",
    "model.summary()\n",
    "\n",
    "model.compile(loss='binary_crossentropy',\n",
    "              optimizer='adam',\n",
    "              metrics=['acc'])"
   ]
  },
  {
   "cell_type": "code",
   "execution_count": 57,
   "metadata": {},
   "outputs": [],
   "source": [
    "from tensorflow.keras.callbacks import EarlyStopping, ModelCheckpoint\n",
    "my_callbacks = [\n",
    "    EarlyStopping(monitor=\"val_loss\", patience=5, restore_best_weights=True),\n",
    "    ModelCheckpoint(filepath=model_save, save_best_only=True),\n",
    "]"
   ]
  },
  {
   "cell_type": "code",
   "execution_count": 58,
   "metadata": {},
   "outputs": [
    {
     "name": "stdout",
     "output_type": "stream",
     "text": [
      "Epoch 1/50\n",
      "100/100 [==============================] - 10s 97ms/step - loss: 0.6274 - acc: 0.7120 - val_loss: 0.7105 - val_acc: 0.6300\n",
      "Epoch 2/50\n",
      "100/100 [==============================] - 10s 98ms/step - loss: 0.5520 - acc: 0.7260 - val_loss: 0.7962 - val_acc: 0.6500\n",
      "Epoch 3/50\n",
      "100/100 [==============================] - 10s 96ms/step - loss: 0.4406 - acc: 0.7920 - val_loss: 0.8452 - val_acc: 0.6800\n",
      "Epoch 4/50\n",
      "100/100 [==============================] - 10s 103ms/step - loss: 0.4209 - acc: 0.8320 - val_loss: 0.6515 - val_acc: 0.6600\n",
      "Epoch 5/50\n",
      "100/100 [==============================] - 10s 101ms/step - loss: 0.4133 - acc: 0.8400 - val_loss: 0.8229 - val_acc: 0.6400\n",
      "Epoch 6/50\n",
      "100/100 [==============================] - 10s 97ms/step - loss: 0.4085 - acc: 0.8320 - val_loss: 0.9546 - val_acc: 0.6700\n",
      "Epoch 7/50\n",
      "100/100 [==============================] - 10s 97ms/step - loss: 0.3477 - acc: 0.8540 - val_loss: 0.7560 - val_acc: 0.6600\n",
      "Epoch 8/50\n",
      "100/100 [==============================] - 10s 97ms/step - loss: 0.2878 - acc: 0.8820 - val_loss: 1.0474 - val_acc: 0.6500\n",
      "Epoch 9/50\n",
      "100/100 [==============================] - 10s 99ms/step - loss: 0.3702 - acc: 0.8480 - val_loss: 0.7154 - val_acc: 0.6900\n",
      "Epoch 10/50\n",
      "100/100 [==============================] - 10s 99ms/step - loss: 0.2756 - acc: 0.8700 - val_loss: 1.1473 - val_acc: 0.7000\n",
      "Epoch 11/50\n",
      "100/100 [==============================] - 10s 99ms/step - loss: 0.2569 - acc: 0.9120 - val_loss: 0.6802 - val_acc: 0.7100\n",
      "Epoch 12/50\n",
      "100/100 [==============================] - 10s 97ms/step - loss: 0.2777 - acc: 0.8780 - val_loss: 0.9152 - val_acc: 0.5800\n",
      "Epoch 13/50\n",
      "100/100 [==============================] - 10s 98ms/step - loss: 0.2235 - acc: 0.9100 - val_loss: 2.5131 - val_acc: 0.5800\n",
      "Epoch 14/50\n",
      "100/100 [==============================] - 10s 98ms/step - loss: 0.2742 - acc: 0.8980 - val_loss: 1.2131 - val_acc: 0.6900\n",
      "Epoch 15/50\n",
      "100/100 [==============================] - 10s 97ms/step - loss: 0.2374 - acc: 0.8980 - val_loss: 1.0997 - val_acc: 0.6800\n",
      "Epoch 16/50\n",
      "100/100 [==============================] - 10s 97ms/step - loss: 0.1962 - acc: 0.9160 - val_loss: 1.6132 - val_acc: 0.6100\n",
      "Epoch 17/50\n",
      "100/100 [==============================] - 10s 98ms/step - loss: 0.2152 - acc: 0.9180 - val_loss: 2.5250 - val_acc: 0.6300\n",
      "Epoch 18/50\n",
      "100/100 [==============================] - 10s 97ms/step - loss: 0.3217 - acc: 0.8820 - val_loss: 1.0173 - val_acc: 0.6700\n",
      "Epoch 19/50\n",
      "100/100 [==============================] - 10s 97ms/step - loss: 0.2823 - acc: 0.8960 - val_loss: 1.1821 - val_acc: 0.6900\n",
      "Epoch 20/50\n",
      "100/100 [==============================] - 10s 98ms/step - loss: 0.2312 - acc: 0.9120 - val_loss: 0.9415 - val_acc: 0.6800\n",
      "Epoch 21/50\n",
      "100/100 [==============================] - 10s 98ms/step - loss: 0.1335 - acc: 0.9460 - val_loss: 1.0067 - val_acc: 0.7000\n",
      "Epoch 22/50\n",
      "100/100 [==============================] - 10s 98ms/step - loss: 0.1143 - acc: 0.9620 - val_loss: 0.9145 - val_acc: 0.7400\n",
      "Epoch 23/50\n",
      "100/100 [==============================] - 10s 97ms/step - loss: 0.1156 - acc: 0.9520 - val_loss: 1.5261 - val_acc: 0.6500\n",
      "Epoch 24/50\n",
      "100/100 [==============================] - 10s 100ms/step - loss: 0.1269 - acc: 0.9520 - val_loss: 1.6775 - val_acc: 0.6500\n",
      "Epoch 25/50\n",
      "100/100 [==============================] - 10s 99ms/step - loss: 0.1163 - acc: 0.9600 - val_loss: 1.4201 - val_acc: 0.6700\n",
      "Epoch 26/50\n",
      "100/100 [==============================] - 10s 99ms/step - loss: 0.0767 - acc: 0.9720 - val_loss: 1.5061 - val_acc: 0.6800\n",
      "Epoch 27/50\n",
      "100/100 [==============================] - 10s 97ms/step - loss: 0.1767 - acc: 0.9300 - val_loss: 2.2014 - val_acc: 0.5400\n",
      "Epoch 28/50\n",
      "100/100 [==============================] - 10s 98ms/step - loss: 0.1686 - acc: 0.9380 - val_loss: 1.5153 - val_acc: 0.6200\n",
      "Epoch 29/50\n",
      "100/100 [==============================] - 10s 98ms/step - loss: 0.1235 - acc: 0.9400 - val_loss: 2.2523 - val_acc: 0.5300\n",
      "Epoch 30/50\n",
      "100/100 [==============================] - 10s 97ms/step - loss: 0.0995 - acc: 0.9540 - val_loss: 1.3717 - val_acc: 0.6300\n",
      "Epoch 31/50\n",
      "100/100 [==============================] - 10s 97ms/step - loss: 0.0687 - acc: 0.9740 - val_loss: 1.6283 - val_acc: 0.7100\n",
      "Epoch 32/50\n",
      "100/100 [==============================] - 10s 97ms/step - loss: 0.0947 - acc: 0.9680 - val_loss: 1.7679 - val_acc: 0.6300\n",
      "Epoch 33/50\n",
      "100/100 [==============================] - 10s 97ms/step - loss: 0.0783 - acc: 0.9680 - val_loss: 1.9644 - val_acc: 0.6300\n",
      "Epoch 34/50\n",
      "100/100 [==============================] - 10s 97ms/step - loss: 0.0502 - acc: 0.9880 - val_loss: 2.4057 - val_acc: 0.6100\n",
      "Epoch 35/50\n",
      "100/100 [==============================] - 10s 97ms/step - loss: 0.0444 - acc: 0.9840 - val_loss: 2.1551 - val_acc: 0.6000\n",
      "Epoch 36/50\n",
      "100/100 [==============================] - 10s 97ms/step - loss: 0.0362 - acc: 0.9840 - val_loss: 2.0325 - val_acc: 0.6600\n",
      "Epoch 37/50\n",
      "100/100 [==============================] - 10s 98ms/step - loss: 0.1477 - acc: 0.9480 - val_loss: 2.7495 - val_acc: 0.6200\n",
      "Epoch 38/50\n",
      "100/100 [==============================] - 10s 97ms/step - loss: 0.2115 - acc: 0.9360 - val_loss: 1.3789 - val_acc: 0.6600\n",
      "Epoch 39/50\n",
      "100/100 [==============================] - 10s 96ms/step - loss: 0.1189 - acc: 0.9560 - val_loss: 1.3367 - val_acc: 0.6400\n",
      "Epoch 40/50\n",
      "100/100 [==============================] - 10s 98ms/step - loss: 0.1219 - acc: 0.9540 - val_loss: 1.5626 - val_acc: 0.6400\n",
      "Epoch 41/50\n",
      "100/100 [==============================] - 10s 98ms/step - loss: 0.0790 - acc: 0.9700 - val_loss: 1.7477 - val_acc: 0.6200\n",
      "Epoch 42/50\n",
      "100/100 [==============================] - 10s 97ms/step - loss: 0.0501 - acc: 0.9820 - val_loss: 1.7057 - val_acc: 0.6700\n",
      "Epoch 43/50\n",
      "100/100 [==============================] - 10s 97ms/step - loss: 0.0488 - acc: 0.9780 - val_loss: 2.2420 - val_acc: 0.6500\n",
      "Epoch 44/50\n",
      "100/100 [==============================] - 10s 96ms/step - loss: 0.0700 - acc: 0.9740 - val_loss: 2.9394 - val_acc: 0.5100\n",
      "Epoch 45/50\n",
      "100/100 [==============================] - 10s 96ms/step - loss: 0.0335 - acc: 0.9860 - val_loss: 2.6154 - val_acc: 0.6000\n",
      "Epoch 46/50\n",
      "100/100 [==============================] - 10s 98ms/step - loss: 0.0676 - acc: 0.9740 - val_loss: 1.4453 - val_acc: 0.6400\n",
      "Epoch 47/50\n",
      "100/100 [==============================] - 10s 96ms/step - loss: 0.0504 - acc: 0.9740 - val_loss: 1.7760 - val_acc: 0.6600\n",
      "Epoch 48/50\n",
      "100/100 [==============================] - 10s 98ms/step - loss: 0.0801 - acc: 0.9660 - val_loss: 1.5105 - val_acc: 0.6900\n",
      "Epoch 49/50\n",
      "100/100 [==============================] - 10s 97ms/step - loss: 0.0238 - acc: 0.9940 - val_loss: 2.0020 - val_acc: 0.6300\n",
      "Epoch 50/50\n",
      "100/100 [==============================] - 10s 96ms/step - loss: 0.0188 - acc: 0.9940 - val_loss: 1.9260 - val_acc: 0.6700\n"
     ]
    }
   ],
   "source": [
    "history = model.fit(train_X, train_y,\n",
    "                              batch_size=5,\n",
    "                              epochs=50, \n",
    "                              validation_data=(val_X, val_y),\n",
    "                              callbacks=my_callbacks)"
   ]
  },
  {
   "cell_type": "code",
   "execution_count": 59,
   "metadata": {},
   "outputs": [
    {
     "data": {
      "image/png": "[encoded data removed]",
      "text/plain": [
       "<Figure size 432x288 with 1 Axes>"
      ]
     },
     "metadata": {
      "needs_background": "light"
     },
     "output_type": "display_data"
    },
    {
     "data": {
      "image/png": "[encoded data removed]",
      "text/plain": [
       "<Figure size 432x288 with 1 Axes>"
      ]
     },
     "metadata": {
      "needs_background": "light"
     },
     "output_type": "display_data"
    }
   ],
   "source": [
    "import matplotlib.pyplot as plt\n",
    "\n",
    "acc = history.history['acc']\n",
    "val_acc = history.history['val_acc']\n",
    "loss = history.history['loss']\n",
    "val_loss = history.history['val_loss']\n",
    "\n",
    "epochs = range(1, len(acc) + 1)\n",
    "\n",
    "plt.plot(epochs, acc, 'bo', label='Training acc')\n",
    "plt.plot(epochs, val_acc, 'b', label='Validation acc')\n",
    "plt.title('Training and validation accuracy')\n",
    "plt.legend()\n",
    "\n",
    "plt.figure()\n",
    "\n",
    "plt.plot(epochs, loss, 'bo', label='Training loss')\n",
    "plt.plot(epochs, val_loss, 'b', label='Validation loss')\n",
    "plt.title('Training and validation loss')\n",
    "plt.legend()\n",
    "\n",
    "plt.show()"
   ]
  },
  {
   "cell_type": "code",
   "execution_count": 60,
   "metadata": {},
   "outputs": [
    {
     "name": "stdout",
     "output_type": "stream",
     "text": [
      "WARNING:tensorflow:5 out of the last 16 calls to <function Model.make_predict_function.<locals>.predict_function at 0x00000247200B4280> triggered tf.function retracing. Tracing is expensive and the excessive number of tracings could be due to (1) creating @tf.function repeatedly in a loop, (2) passing tensors with different shapes, (3) passing Python objects instead of tensors. For (1), please define your @tf.function outside of the loop. For (2), @tf.function has experimental_relax_shapes=True option that relaxes argument shapes that can avoid unnecessary retracing. For (3), please refer to https://www.tensorflow.org/tutorials/customization/performance#python_or_tensor_args and https://www.tensorflow.org/api_docs/python/tf/function for  more details.\n",
      "Train Accuracy:\t 0.9940000176429749\n",
      "Val Accuracy:\t 0.6700000166893005\n",
      "Test Accuracy:\t 0.6145833333333334\n",
      "Precision:\t 0.5901639344262295\n",
      "Recall:\t\t 0.75\n",
      "F1 Score:\t 0.6605504587155964\n",
      "AUC:\t\t 0.6145833333333333\n"
     ]
    }
   ],
   "source": [
    "from sklearn.metrics import accuracy_score\n",
    "\n",
    "## Test Accuracy\n",
    "predictions = model.predict(test_X)\n",
    "ypred = predictions > 0.5\n",
    "test_acc = accuracy_score(test_y, ypred)\n",
    "\n",
    "from sklearn.metrics import precision_recall_fscore_support, roc_auc_score\n",
    "\n",
    "precision, recall, f1score, _ = precision_recall_fscore_support(test_y, ypred, average='binary')\n",
    "\n",
    "auc = roc_auc_score(test_y, ypred)\n",
    "\n",
    "print(\"Train Accuracy:\\t\", acc[-1])\n",
    "print(\"Val Accuracy:\\t\", val_acc[-1])\n",
    "print(\"Test Accuracy:\\t\", test_acc)\n",
    "print(\"Precision:\\t\", precision)\n",
    "print(\"Recall:\\t\\t\", recall)\n",
    "print(\"F1 Score:\\t\", f1score)\n",
    "print(\"AUC:\\t\\t\", auc)\n"
   ]
  },
  {
   "cell_type": "code",
   "execution_count": null,
   "metadata": {},
   "outputs": [],
   "source": []
  }
 ],
 "metadata": {
  "kernelspec": {
   "display_name": "Python 3",
   "language": "python",
   "name": "python3"
  },
  "language_info": {
   "codemirror_mode": {
    "name": "ipython",
    "version": 3
   },
   "file_extension": ".py",
   "mimetype": "text/x-python",
   "name": "python",
   "nbconvert_exporter": "python",
   "pygments_lexer": "ipython3",
   "version": "3.8.0"
  }
 },
 "nbformat": 4,
 "nbformat_minor": 1
}