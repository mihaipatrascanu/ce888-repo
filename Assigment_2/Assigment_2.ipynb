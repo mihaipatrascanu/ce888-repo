{
  "nbformat": 4,
  "nbformat_minor": 0,
  "metadata": {
    "colab": {
      "name": "Assigment_2.ipynb",
      "provenance": [],
      "collapsed_sections": [],
      "authorship_tag": "ABX9TyOuRccTqwK37HExbLwcgXax",
      "include_colab_link": true
    },
    "kernelspec": {
      "name": "python3",
      "display_name": "Python 3"
    },
    "language_info": {
      "name": "python"
    }
  },
  "cells": [
    {
      "cell_type": "markdown",
      "metadata": {
        "id": "view-in-github",
        "colab_type": "text"
      },
      "source": [
        "<a href=\"https://colab.research.google.com/github/mihaipatrascanu/ce888-repo/blob/main/Assigment_2/Assigment_2.ipynb\" target=\"_parent\"><img src=\"https://colab.research.google.com/assets/colab-badge.svg\" alt=\"Open In Colab\"/></a>"
      ]
    },
    {
      "cell_type": "code",
      "metadata": {
        "id": "FEfRZjY8b1uR"
      },
      "source": [
        "from google.colab import files\n",
        "uploaded=files.upload()"
      ],
      "execution_count": null,
      "outputs": []
    },
    {
      "cell_type": "code",
      "metadata": {
        "id": "VCXBDmQgcOOX"
      },
      "source": [
        "#Read dataset using pandas\n",
        "\n",
        "import pandas as pd\n",
        "dorset=pd.read_csv(\"2021-01-dorset-street.csv\")\n",
        "dorset.head()"
      ],
      "execution_count": null,
      "outputs": []
    },
    {
      "cell_type": "code",
      "metadata": {
        "id": "bBsSyq0ScP1G"
      },
      "source": [
        "#read shape of a data\n",
        "\n",
        "dorset.shape"
      ],
      "execution_count": null,
      "outputs": []
    },
    {
      "cell_type": "code",
      "metadata": {
        "id": "fVhC0YhOcRUW"
      },
      "source": [
        "###Data Cleaning"
      ],
      "execution_count": null,
      "outputs": []
    },
    {
      "cell_type": "code",
      "metadata": {
        "id": "8B5TjiONcTOm"
      },
      "source": [
        "#check null values\n",
        "\n",
        "dorset.isnull().sum()"
      ],
      "execution_count": null,
      "outputs": []
    },
    {
      "cell_type": "code",
      "metadata": {
        "id": "1eYXWNzjcU4P"
      },
      "source": [
        "#Drop unwanted columns using drop function\n",
        "\n",
        "dorset1=dorset.drop(['Falls within','Reported by','Context','Month','LSOA name','Crime ID','Location'],axis=1)\n",
        "dorset1.head()"
      ],
      "execution_count": null,
      "outputs": []
    },
    {
      "cell_type": "code",
      "metadata": {
        "id": "lSGSNBTPcWqW"
      },
      "source": [
        "#drop the null value rows and reset the index\n",
        "\n",
        "dorset1=dorset1.dropna()\n",
        "dorset2=dorset1.reset_index(drop=True)\n",
        "dorset2.head()"
      ],
      "execution_count": null,
      "outputs": []
    },
    {
      "cell_type": "code",
      "metadata": {
        "id": "sjGoBx-bcZ1n"
      },
      "source": [
        "###Data Preprocessing"
      ],
      "execution_count": null,
      "outputs": []
    },
    {
      "cell_type": "code",
      "metadata": {
        "id": "vQDb2a50cbb3"
      },
      "source": [
        "#check data types\n",
        "dorset2.dtypes"
      ],
      "execution_count": null,
      "outputs": []
    },
    {
      "cell_type": "code",
      "metadata": {
        "id": "u0s5ujexcePP"
      },
      "source": [
        "#apply label encoding\n",
        "\n",
        "from sklearn.preprocessing import LabelEncoder\n",
        "label1=LabelEncoder()\n",
        "label2=LabelEncoder()\n",
        "label3=LabelEncoder()\n",
        "dorset2['Crime type']=label1.fit_transform(dorset2['Crime type'])\n",
        "dorset2['Last outcome category']=label2.fit_transform(dorset2['Last outcome category'])\n",
        "dorset2['LSOA code']=label3.fit_transform(dorset2['LSOA code'])\n",
        "dorset2.head()"
      ],
      "execution_count": null,
      "outputs": []
    },
    {
      "cell_type": "code",
      "metadata": {
        "id": "B7FTfe1YckX3"
      },
      "source": [
        "###Standardization"
      ],
      "execution_count": null,
      "outputs": []
    },
    {
      "cell_type": "code",
      "metadata": {
        "id": "9ycUIc9BclGv"
      },
      "source": [
        "#Apply the standarization\n",
        "\n",
        "from sklearn.preprocessing import StandardScaler\n",
        "stnd = StandardScaler()\n",
        "stnd1=stnd.fit_transform(dorset2)\n",
        "data = pd.DataFrame(data=stnd1, columns=dorset2.columns)\n",
        "dorset2=data"
      ],
      "execution_count": null,
      "outputs": []
    },
    {
      "cell_type": "code",
      "metadata": {
        "id": "q5RMx6P6coBm"
      },
      "source": [
        "###Train Test Split"
      ],
      "execution_count": null,
      "outputs": []
    },
    {
      "cell_type": "code",
      "metadata": {
        "id": "_oeAESLIcqPE"
      },
      "source": [
        "#take dependent and independent variables\n",
        "\n",
        "x=dorset2.drop(['Last outcome category'],axis=1)\n",
        "y=dorset2['Last outcome category']"
      ],
      "execution_count": null,
      "outputs": []
    },
    {
      "cell_type": "code",
      "metadata": {
        "id": "-Nag9XSkcrIm"
      },
      "source": [
        "#Splitting of a dataset\n",
        "\n",
        "from sklearn.model_selection import train_test_split\n",
        "x_train,x_test,y_train,y_test=train_test_split(x,y,test_size=0.3)"
      ],
      "execution_count": null,
      "outputs": []
    },
    {
      "cell_type": "code",
      "metadata": {
        "id": "zpVLW_cqctZ2"
      },
      "source": [
        "###Decision Tree Regression"
      ],
      "execution_count": null,
      "outputs": []
    },
    {
      "cell_type": "code",
      "metadata": {
        "id": "rGQwQ_wbcvIG"
      },
      "source": [
        "#Decision Tree Regression\n",
        "\n",
        "from sklearn.tree import DecisionTreeRegressor\n",
        "reg = DecisionTreeRegressor()\n",
        "reg.fit(x_train,y_train)\n",
        "\n",
        "y_predict=reg.predict(x_test)\n",
        "y_predict"
      ],
      "execution_count": null,
      "outputs": []
    },
    {
      "cell_type": "code",
      "metadata": {
        "id": "inQVc78ZcxkO"
      },
      "source": [
        "#Evaluation metrics of decision tree regression\n",
        "from sklearn.metrics import mean_absolute_error,r2_score,mean_squared_error\n",
        "\n",
        "print(\"Mean Absolute Error of Decision Tree Regression:- \",mean_absolute_error(y_test,y_predict))\n",
        "print(\"R2 Square Value of Decision Tree Regression:- \",r2_score(y_test,y_predict))"
      ],
      "execution_count": null,
      "outputs": []
    },
    {
      "cell_type": "code",
      "metadata": {
        "id": "kAOCV9Chc0DH"
      },
      "source": [
        "###XG Boost Regression"
      ],
      "execution_count": null,
      "outputs": []
    },
    {
      "cell_type": "code",
      "metadata": {
        "id": "5UX3NHVAc1xe"
      },
      "source": [
        "#xg boost regression\n",
        "\n",
        "import xgboost as xg\n",
        "xgb_reg = xg.XGBRegressor()\n",
        "xgb_reg.fit(x_train,y_train)\n",
        "\n",
        "y_predict1=xgb_reg.predict(x_test)\n",
        "y_predict1"
      ],
      "execution_count": null,
      "outputs": []
    },
    {
      "cell_type": "code",
      "metadata": {
        "id": "4ZN8HDjjc4q2"
      },
      "source": [
        "#Evaluation metrics of xg boost regression\n",
        "from sklearn.metrics import mean_absolute_error,r2_score,mean_squared_error\n",
        "from math import sqrt\n",
        "\n",
        "print(\"Mean Absolute Error of XGB Regression:- \",mean_absolute_error(y_test,y_predict1))\n",
        "print(\"Root Mean Squared Error of XGB Regression:- \",sqrt(mean_squared_error(y_test,y_predict1)))\n",
        "print(\"R2 Square Value of XGB Regression:- \",r2_score(y_test,y_predict1))"
      ],
      "execution_count": null,
      "outputs": []
    },
    {
      "cell_type": "code",
      "metadata": {
        "id": "99KJ4lC2c67P"
      },
      "source": [
        "###Data Visualization"
      ],
      "execution_count": null,
      "outputs": []
    },
    {
      "cell_type": "code",
      "metadata": {
        "id": "6xz_aeW5c8Zn"
      },
      "source": [
        "#Geographic Map\n",
        "import plotly.express as px\n",
        "fig = px.density_mapbox(dorset2, lat=dorset2['Latitude'], lon=dorset2['Longitude'], z='Last outcome category', radius=10,\n",
        "                        center=dict(lat=0, lon=180), zoom=0,\n",
        "                        mapbox_style=\"stamen-terrain\")\n",
        "fig.show()"
      ],
      "execution_count": null,
      "outputs": []
    },
    {
      "cell_type": "code",
      "metadata": {
        "id": "oDpfiPztc-gH"
      },
      "source": [
        "#Heatmap\n",
        "import seaborn as sns\n",
        "import matplotlib.pyplot as plt\n",
        "\n",
        "sns.heatmap(dorset2)\n",
        "plt.show()"
      ],
      "execution_count": null,
      "outputs": []
    }
  ]
}