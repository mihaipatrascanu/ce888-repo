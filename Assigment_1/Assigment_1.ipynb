{
  "nbformat": 4,
  "nbformat_minor": 0,
  "metadata": {
    "colab": {
      "name": "Assigment_1.ipynb",
      "provenance": [],
      "collapsed_sections": [],
      "authorship_tag": "ABX9TyMFxZAiNpeS2AVMB3/OFtFd",
      "include_colab_link": true
    },
    "kernelspec": {
      "name": "python3",
      "display_name": "Python 3"
    },
    "language_info": {
      "name": "python"
    }
  },
  "cells": [
    {
      "cell_type": "markdown",
      "metadata": {
        "id": "view-in-github",
        "colab_type": "text"
      },
      "source": [
        "<a href=\"https://colab.research.google.com/github/mihaipatrascanu/ce888-repo/blob/main/Assigment_1/Assigment_1.ipynb\" target=\"_parent\"><img src=\"https://colab.research.google.com/assets/colab-badge.svg\" alt=\"Open In Colab\"/></a>"
      ]
    },
    {
      "cell_type": "code",
      "metadata": {
        "id": "48HVtsddaKdc"
      },
      "source": [
        "from google.colab import files\n",
        "uploaded = files.upload()"
      ],
      "execution_count": null,
      "outputs": []
    },
    {
      "cell_type": "code",
      "metadata": {
        "id": "1N7m8Zc0am2P"
      },
      "source": [
        "#Read dataset of kent street\n",
        "import pandas as pd\n",
        "df=pd.read_csv(\"2020-12-kent-street.csv\")\n",
        "df.head()"
      ],
      "execution_count": null,
      "outputs": []
    },
    {
      "cell_type": "code",
      "metadata": {
        "id": "5IOJllFNanoW"
      },
      "source": [
        "#check dimension of a dataset\n",
        "df.shape"
      ],
      "execution_count": null,
      "outputs": []
    },
    {
      "cell_type": "code",
      "metadata": {
        "id": "LpiXTjCMaqUe"
      },
      "source": [
        "###Data Cleaning\n",
        "#check missing values\n",
        "df.isnull().sum()"
      ],
      "execution_count": null,
      "outputs": []
    },
    {
      "cell_type": "code",
      "metadata": {
        "id": "owVRvKT8a1Mm"
      },
      "source": [
        "#drop unwanted columns\n",
        "df1=df.drop([\"Context\",\"Crime ID\",\"LSOA name\",\"Location\",\"Month\",\"Reported by\",\"Falls within\"],axis=1)\n",
        "df1.head()"
      ],
      "execution_count": null,
      "outputs": []
    },
    {
      "cell_type": "code",
      "metadata": {
        "id": "vsXtmwhsa3KW"
      },
      "source": [
        "#drop missing values columns\n",
        "\n",
        "df1=df1.dropna()\n",
        "df2=df1.reset_index(drop=True)\n",
        "df2.head()"
      ],
      "execution_count": null,
      "outputs": []
    },
    {
      "cell_type": "code",
      "metadata": {
        "id": "UnTKqN9qa4tf"
      },
      "source": [
        "#check data types\n",
        "df2.dtypes"
      ],
      "execution_count": null,
      "outputs": []
    },
    {
      "cell_type": "code",
      "metadata": {
        "id": "SygMwVqBa6te"
      },
      "source": [
        "#Apply label encoding\n",
        "from sklearn.preprocessing import LabelEncoder\n",
        "l1=LabelEncoder()\n",
        "l2=LabelEncoder()\n",
        "l3=LabelEncoder()\n",
        "\n",
        "df2['LSOA code']=l1.fit_transform(df2['LSOA code'])\n",
        "df2['Crime type']=l2.fit_transform(df2['Crime type'])\n",
        "df2['Last outcome category']=l3.fit_transform(df2['Last outcome category'])\n",
        "df2.head()"
      ],
      "execution_count": null,
      "outputs": []
    },
    {
      "cell_type": "code",
      "metadata": {
        "id": "pfifjAgia8-O"
      },
      "source": [
        "#Apply standarization\n",
        "from sklearn.preprocessing import StandardScaler\n",
        "sc = StandardScaler()\n",
        "sc1=sc.fit_transform(df2)\n",
        "sc_X = pd.DataFrame(data=sc1, columns=df2.columns)\n",
        "df2=sc_X"
      ],
      "execution_count": null,
      "outputs": []
    },
    {
      "cell_type": "code",
      "metadata": {
        "id": "376aco8Wa-2u"
      },
      "source": [
        "#take dependent and independent variables\n",
        "x=df2.drop(['Last outcome category'],axis=1)\n",
        "y=df2['Last outcome category']"
      ],
      "execution_count": null,
      "outputs": []
    },
    {
      "cell_type": "code",
      "metadata": {
        "id": "4weEsxlxbBNm"
      },
      "source": [
        "#Splitting of a dataset\n",
        "from sklearn.model_selection import train_test_split\n",
        "x_train,x_test,y_train,y_test=train_test_split(x,y,test_size=0.3)"
      ],
      "execution_count": null,
      "outputs": []
    },
    {
      "cell_type": "code",
      "metadata": {
        "id": "0SXO1qPlbEJf"
      },
      "source": [
        "#Support Vector Regression\n",
        "from sklearn.svm import SVR\n",
        "\n",
        "svr=SVR(kernel='rbf')\n",
        "svr.fit(x_train,y_train)\n",
        "predict=svr.predict(x_test)\n",
        "predict\n"
      ],
      "execution_count": null,
      "outputs": []
    },
    {
      "cell_type": "code",
      "metadata": {
        "id": "SMnUzqRfbIhf"
      },
      "source": [
        "#Evaluation metrics of support vector regression\n",
        "from sklearn.metrics import mean_absolute_error,r2_score\n",
        "from math import sqrt\n",
        "\n",
        "print(\"Mean Absolute Error of SVR:- \",mean_absolute_error(y_test,predict))\n",
        "print(\"Root Mean Squared Error of SVR:- \",sqrt(mean_squared_error(y_test,predict)))\n",
        "print(\"R2 Square Value of SVR:- \",r2_score(y_test,predict))"
      ],
      "execution_count": null,
      "outputs": []
    },
    {
      "cell_type": "code",
      "metadata": {
        "id": "9TvEncnybK3P"
      },
      "source": [
        "#Linear Regression\n",
        "from sklearn import linear_model\n",
        "regression = linear_model.LinearRegression() \n",
        "regression.fit(x_train,y_train)\n",
        "y_pred=regression.predict(x_test)\n",
        "y_pred"
      ],
      "execution_count": null,
      "outputs": []
    },
    {
      "cell_type": "code",
      "metadata": {
        "id": "x636xW4obNef"
      },
      "source": [
        "#Evaluation metrics of linear regression\n",
        "from sklearn.metrics import mean_absolute_error,r2_score\n",
        "from math import sqrt\n",
        "\n",
        "print(\"Mean Absolute Error of Linear Regression:- \",mean_absolute_error(y_test,y_pred))\n",
        "print(\"Root Mean Squared Error of Linear Regression:- \",sqrt(mean_squared_error(y_test,y_pred)))\n",
        "print(\"R2 Square Value of Linear Regression:- \",r2_score(y_test,y_pred))"
      ],
      "execution_count": null,
      "outputs": []
    },
    {
      "cell_type": "code",
      "metadata": {
        "id": "mUS8bphtbP1P"
      },
      "source": [
        "###Data Visualization\n",
        "import seaborn as sns\n",
        "import matplotlib.pyplot as plt\n",
        "\n",
        "sns.heatmap(df2)\n",
        "plt.show()"
      ],
      "execution_count": null,
      "outputs": []
    },
    {
      "cell_type": "code",
      "metadata": {
        "id": "oQF72GRIbSDv"
      },
      "source": [
        "import plotly.express as px\n",
        "fig = px.density_mapbox(df2, lat=df2['Latitude'], lon=df2['Longitude'], z='Last outcome category', radius=10,\n",
        "                        center=dict(lat=0, lon=180), zoom=0,\n",
        "                        mapbox_style=\"stamen-terrain\")\n",
        "fig.show()"
      ],
      "execution_count": null,
      "outputs": []
    },
    {
      "cell_type": "code",
      "metadata": {
        "id": "VR4HaNbrbXuI"
      },
      "source": [
        "set(df['Crime type'])"
      ],
      "execution_count": null,
      "outputs": []
    },
    {
      "cell_type": "code",
      "metadata": {
        "id": "k1Yalqhubatw"
      },
      "source": [
        "set(df['Last outcome category'])"
      ],
      "execution_count": null,
      "outputs": []
    }
  ]
}